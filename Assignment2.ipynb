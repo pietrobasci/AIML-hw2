{
  "nbformat": 4,
  "nbformat_minor": 0,
  "metadata": {
    "colab": {
      "name": "Assignment2.ipynb",
      "provenance": [],
      "collapsed_sections": []
    },
    "kernelspec": {
      "name": "python3",
      "display_name": "Python 3"
    },
    "accelerator": "GPU"
  },
  "cells": [
    {
      "cell_type": "markdown",
      "metadata": {
        "id": "c9QcGnGPdX2C",
        "colab_type": "text"
      },
      "source": [
        "\n",
        "**Install requirements**"
      ]
    },
    {
      "cell_type": "code",
      "metadata": {
        "id": "k9O3aM3Tb28q",
        "colab_type": "code",
        "outputId": "d0136db3-3b19-40c0-8e9a-a29bd9ffaf61",
        "colab": {
          "base_uri": "https://localhost:8080/",
          "height": 187
        }
      },
      "source": [
        "!pip3 install 'torch==1.3.1'\n",
        "!pip3 install 'torchvision==0.4.2'\n",
        "!pip3 install 'Pillow-SIMD'\n",
        "!pip3 install 'tqdm'"
      ],
      "execution_count": 1,
      "outputs": [
        {
          "output_type": "stream",
          "text": [
            "Requirement already satisfied: torch==1.3.1 in /usr/local/lib/python3.6/dist-packages (1.3.1)\n",
            "Requirement already satisfied: numpy in /usr/local/lib/python3.6/dist-packages (from torch==1.3.1) (1.17.4)\n",
            "Requirement already satisfied: torchvision==0.4.2 in /usr/local/lib/python3.6/dist-packages (0.4.2)\n",
            "Requirement already satisfied: six in /usr/local/lib/python3.6/dist-packages (from torchvision==0.4.2) (1.12.0)\n",
            "Requirement already satisfied: pillow>=4.1.1 in /usr/local/lib/python3.6/dist-packages (from torchvision==0.4.2) (4.3.0)\n",
            "Requirement already satisfied: torch==1.3.1 in /usr/local/lib/python3.6/dist-packages (from torchvision==0.4.2) (1.3.1)\n",
            "Requirement already satisfied: numpy in /usr/local/lib/python3.6/dist-packages (from torchvision==0.4.2) (1.17.4)\n",
            "Requirement already satisfied: olefile in /usr/local/lib/python3.6/dist-packages (from pillow>=4.1.1->torchvision==0.4.2) (0.46)\n",
            "Requirement already satisfied: Pillow-SIMD in /usr/local/lib/python3.6/dist-packages (6.0.0.post0)\n",
            "Requirement already satisfied: tqdm in /usr/local/lib/python3.6/dist-packages (4.28.1)\n"
          ],
          "name": "stdout"
        }
      ]
    },
    {
      "cell_type": "markdown",
      "metadata": {
        "id": "fo942LMOdlh4",
        "colab_type": "text"
      },
      "source": [
        "**Import libraries**"
      ]
    },
    {
      "cell_type": "code",
      "metadata": {
        "id": "DokFOdD1dJEl",
        "colab_type": "code",
        "colab": {}
      },
      "source": [
        "import os\n",
        "import os.path\n",
        "import sys\n",
        "import logging\n",
        "import copy\n",
        "\n",
        "import torch\n",
        "import torch.nn as nn\n",
        "import torch.optim as optim\n",
        "from torch.utils.data import Subset, DataLoader\n",
        "from torch.backends import cudnn\n",
        "from torchvision.datasets import VisionDataset\n",
        "\n",
        "import torchvision\n",
        "from torchvision import transforms\n",
        "from torchvision.models import alexnet\n",
        "from torchvision.models import resnet50\n",
        "from torchvision.models import vgg16\n",
        "\n",
        "from PIL import Image\n",
        "from tqdm import tqdm\n",
        "import numpy as np\n",
        "import pandas as pd\n",
        "import matplotlib.pyplot as plt"
      ],
      "execution_count": 0,
      "outputs": []
    },
    {
      "cell_type": "markdown",
      "metadata": {
        "id": "OIDLJuIXK_vh",
        "colab_type": "text"
      },
      "source": [
        "**Set Arguments**"
      ]
    },
    {
      "cell_type": "code",
      "metadata": {
        "id": "d5PkYfqfK_SA",
        "colab_type": "code",
        "colab": {}
      },
      "source": [
        "DEVICE = 'cuda' # 'cuda' or 'cpu'\n",
        "CNN = 'AlexNet_pretrained' # 'AlexNet' or 'AlexNet_pretrained' or 'ResNet-50' or 'VGG-16'\n",
        "\n",
        "NUM_CLASSES = 101 # 101 + 1: There is am extra Background class that should be removed \n",
        "\n",
        "BATCH_SIZE = 256     # Higher batch sizes allows for larger learning rates. An empirical heuristic suggests that, when changing\n",
        "                     # the batch size, learning rate should change by the same factor to have comparable results\n",
        "\n",
        "LR = 1e-2            # The initial Learning Rate\n",
        "MOMENTUM = 0.9       # Hyperparameter for SGD, keep this at 0.9 when using SGD\n",
        "WEIGHT_DECAY = 5e-5  # Regularization, you can keep this at the default\n",
        "\n",
        "NUM_EPOCHS = 30      # Total number of training epochs (iterations over dataset)\n",
        "STEP_SIZE = 10       # How many epochs before decreasing learning rate (if using a step-down policy)\n",
        "GAMMA = 0.1          # Multiplicative factor for learning rate step-down\n",
        "\n",
        "LOG_FREQUENCY = 10"
      ],
      "execution_count": 0,
      "outputs": []
    },
    {
      "cell_type": "markdown",
      "metadata": {
        "id": "tpOAuTtEC-cd",
        "colab_type": "text"
      },
      "source": [
        "**Define Caltech Dataset class**"
      ]
    },
    {
      "cell_type": "code",
      "metadata": {
        "id": "QUm97N8lDSKV",
        "colab_type": "code",
        "colab": {}
      },
      "source": [
        "def pil_loader(path):\n",
        "    # open path as file to avoid ResourceWarning (https://github.com/python-pillow/Pillow/issues/835)\n",
        "    with open(path, 'rb') as f:\n",
        "        img = Image.open(f)\n",
        "        return img.convert('RGB')\n",
        "\n",
        "\n",
        "class Caltech(VisionDataset):\n",
        "\n",
        "    def __init__(self, root, split='train', transform=None, target_transform=None):\n",
        "        super(Caltech, self).__init__(root, transform=transform, target_transform=target_transform)\n",
        "\n",
        "        # List of all classes, excluding 'BACKGROUND_Google' class\n",
        "        self.classes = [d for d in os.listdir(root)\n",
        "                        if os.path.isdir(os.path.join(root, d))\n",
        "                        and d != 'BACKGROUND_Google']\n",
        "        self.classes.sort()\n",
        "\n",
        "        # Map classes to indexes\n",
        "        self.class_to_idx = {self.classes[i]: i for i in range(len(self.classes))}\n",
        "\n",
        "        # Map label to image name, read from txt split file (excluding 'BACKGROUND_Google' class)\n",
        "        lab_to_image = pd.read_csv('Homework2-Caltech101/{}.txt'.format(split), \n",
        "                                   sep='/', header=None, names=['label', 'image'])\n",
        "        lab_to_image = lab_to_image.loc[lab_to_image['label'] != 'BACKGROUND_Google']\n",
        "\n",
        "        # List of pair (image, label)\n",
        "        self.samples = []\n",
        "\n",
        "        for i, row in lab_to_image.iterrows():\n",
        "            path = os.path.join(root, row['label'], row['image'])\n",
        "            if os.path.isfile(path):\n",
        "                #item = (path, self.class_to_idx[row['label']]) # Use only path to save ram\n",
        "                item = (pil_loader(path), self.class_to_idx[row['label']])  # Use image to be faster\n",
        "                self.samples.append(item)\n",
        "\n",
        "    def __getitem__(self, index):\n",
        "        '''\n",
        "        __getitem__ should access an element through its index\n",
        "        Args:\n",
        "            index (int): Index\n",
        "        Returns:\n",
        "            tuple: (sample, target) where target is class_index of the target class.\n",
        "        '''\n",
        "\n",
        "        image, label= self.samples[index] # if image is used in __init__\n",
        "        #path, label= self.samples[index] # if path is used in __init__\n",
        "        #image = pil_loader(path)\n",
        "\n",
        "        # Applies preprocessing when accessing the image\n",
        "        if self.transform is not None:\n",
        "            image = self.transform(image)\n",
        "\n",
        "        return image, label\n",
        "\n",
        "    def __len__(self):\n",
        "        '''\n",
        "        The __len__ method returns the length of the dataset\n",
        "        It is mandatory, as this is used by several other components\n",
        "        '''\n",
        "        return len(self.samples)"
      ],
      "execution_count": 0,
      "outputs": []
    },
    {
      "cell_type": "markdown",
      "metadata": {
        "id": "9gwii0TBHvzh",
        "colab_type": "text"
      },
      "source": [
        "**Define Data Preprocessing**"
      ]
    },
    {
      "cell_type": "code",
      "metadata": {
        "id": "QUDdw4j2H0Mc",
        "colab_type": "code",
        "colab": {}
      },
      "source": [
        "# Define transforms for training phase\n",
        "train_transform = transforms.Compose([transforms.Resize(256),      # Resizes short size of the PIL image to 256\n",
        "                                      transforms.CenterCrop(224),  # Crops a central square patch of the image\n",
        "                                                                   # 224 because torchvision's AlexNet needs a 224x224 input!\n",
        "                                                                   # Remember this when applying different transformations, otherwise you get an error\n",
        "                                      #transforms.RandomHorizontalFlip(),  # Horizontally flip the given PIL Image randomly with a given probability\n",
        "                                      #transforms.RandomRotation(15),      # Rotate the image by angle\n",
        "                                      #transforms.RandomPerspective(distortion_scale=0.4), # Performs Perspective transformation of the given PIL Image randomly with a given probability.\n",
        "                                      #transforms.ColorJitter(brightness=0.4, contrast=0.4, saturation=0.4, hue=0.1),  # Randomly change the brightness, contrast and saturation of an image\n",
        "                                      transforms.ToTensor(), # Turn PIL Image to torch.Tensor\n",
        "                                      transforms.Normalize((0.485, 0.456, 0.406), (0.229, 0.224, 0.225)) # Normalizes tensor with mean and standard deviation\n",
        "                                      #transforms.Normalize((0.5, 0.5, 0.5), (0.5, 0.5, 0.5)) # Normalizes tensor with mean and standard deviation\n",
        "])\n",
        "# Define transforms for the evaluation phase\n",
        "eval_transform = transforms.Compose([transforms.Resize(256),\n",
        "                                      transforms.CenterCrop(224),\n",
        "                                      transforms.ToTensor(),\n",
        "                                      transforms.Normalize((0.485, 0.456, 0.406), (0.229, 0.224, 0.225))                                    \n",
        "                                      #transforms.Normalize((0.5, 0.5, 0.5), (0.5, 0.5, 0.5))                                    \n",
        "])"
      ],
      "execution_count": 0,
      "outputs": []
    },
    {
      "cell_type": "markdown",
      "metadata": {
        "id": "2qYIHPzYLY7i",
        "colab_type": "text"
      },
      "source": [
        "**Prepare Dataset**"
      ]
    },
    {
      "cell_type": "code",
      "metadata": {
        "id": "QfVq_uDHLbsR",
        "colab_type": "code",
        "outputId": "7bacecdc-cf4f-4693-9d6a-cc9efcc55091",
        "colab": {
          "base_uri": "https://localhost:8080/",
          "height": 68
        }
      },
      "source": [
        "# Clone github repository with data\n",
        "if not os.path.isdir('./Homework2-Caltech101'):\n",
        "  !git clone https://github.com/MachineLearning2020/Homework2-Caltech101.git\n",
        "\n",
        "DATA_DIR = 'Homework2-Caltech101/101_ObjectCategories'\n",
        "\n",
        "# Prepare Pytorch train/test Datasets\n",
        "train_dataset = Caltech(root=DATA_DIR, split='train', transform=train_transform)\n",
        "test_dataset = Caltech(root=DATA_DIR, split='test', transform=eval_transform)\n",
        "\n",
        "# Considering even and odd ensure to both splits about half of images of each class \n",
        "train_indexes = [idx for idx in range(len(train_dataset)) if idx % 2]\n",
        "val_indexes = [idx for idx in range(len(train_dataset)) if not idx % 2]\n",
        "\n",
        "val_dataset = Subset(train_dataset, val_indexes)\n",
        "train_dataset = Subset(train_dataset, train_indexes)\n",
        "\n",
        "# Check dataset sizes\n",
        "print('Train Dataset: {}'.format(len(train_dataset)))\n",
        "print('Validation Dataset: {}'.format(len(val_dataset)))\n",
        "print('Test Dataset: {}'.format(len(test_dataset)))"
      ],
      "execution_count": 6,
      "outputs": [
        {
          "output_type": "stream",
          "text": [
            "Train Dataset: 2892\n",
            "Validation Dataset: 2892\n",
            "Test Dataset: 2893\n"
          ],
          "name": "stdout"
        }
      ]
    },
    {
      "cell_type": "markdown",
      "metadata": {
        "id": "FYEDQ7Z21ldN",
        "colab_type": "text"
      },
      "source": [
        "**Prepare Dataloaders**"
      ]
    },
    {
      "cell_type": "code",
      "metadata": {
        "id": "VriRw8SI1nle",
        "colab_type": "code",
        "colab": {}
      },
      "source": [
        "# Dataloaders iterate over pytorch datasets and transparently provide useful functions (e.g. parallelization and shuffling)\n",
        "train_dataloader = DataLoader(train_dataset, batch_size=BATCH_SIZE, shuffle=True, num_workers=4, drop_last=True)\n",
        "val_dataloader = DataLoader(val_dataset, batch_size=BATCH_SIZE, shuffle=False, num_workers=4)\n",
        "test_dataloader = DataLoader(test_dataset, batch_size=BATCH_SIZE, shuffle=False, num_workers=4)"
      ],
      "execution_count": 0,
      "outputs": []
    },
    {
      "cell_type": "markdown",
      "metadata": {
        "id": "gbZ1t5Qs2z4j",
        "colab_type": "text"
      },
      "source": [
        "**Prepare Network**"
      ]
    },
    {
      "cell_type": "code",
      "metadata": {
        "id": "exHUjtXa22DN",
        "colab_type": "code",
        "colab": {}
      },
      "source": [
        "if CNN == 'AlexNet':\n",
        "  net = alexnet() # Loading AlexNet model\n",
        "  # AlexNet has 1000 output neurons, corresponding to the 1000 ImageNet's classes\n",
        "  # We need 101 outputs for Caltech-101\n",
        "  net.classifier[6] = nn.Linear(4096, NUM_CLASSES) # nn.Linear in pytorch is a fully connected layer\n",
        "                                                   # The convolutional layer is nn.Conv2d\n",
        "  # We just changed the last layer of AlexNet with a new fully connected layer with 101 outputs\n",
        "\n",
        "elif CNN == 'AlexNet_pretrained':\n",
        "  net = alexnet(pretrained=True) # Loading AlexNet model (pretrained on ImageNet)\n",
        "  net.classifier[6] = nn.Linear(4096, NUM_CLASSES)  # Changed the last layer of AlexNet\n",
        "\n",
        "elif CNN == 'ResNet-50':\n",
        "  net = resnet50(pretrained=True) # Loading ResNet-50 model (pretrained on ImageNet)\n",
        "  net.fc = nn.Linear(2048, NUM_CLASSES) # Changed the last layer of ResNet-50\n",
        "\n",
        "else:\n",
        "  net = vgg16(pretrained=True) # Loading VGG-16 model (pretrained on ImageNet)\n",
        "  net.classifier[6] = nn.Linear(4096, NUM_CLASSES)  # Changed the last layer of VGG-16"
      ],
      "execution_count": 0,
      "outputs": []
    },
    {
      "cell_type": "markdown",
      "metadata": {
        "id": "KEyL3H_R4qCf",
        "colab_type": "text"
      },
      "source": [
        "**Prepare Training**"
      ]
    },
    {
      "cell_type": "code",
      "metadata": {
        "id": "9sjq00G94tSc",
        "colab_type": "code",
        "colab": {}
      },
      "source": [
        "# Define loss function\n",
        "criterion = nn.CrossEntropyLoss() # for classification, we use Cross Entropy\n",
        "\n",
        "# Choose parameters to optimize\n",
        "# To access a different set of parameters, you have to access submodules of AlexNet\n",
        "# (nn.Module objects, like AlexNet, implement the Composite Pattern)\n",
        "# e.g.: parameters of the fully connected layers: net.classifier.parameters()\n",
        "# e.g.: parameters of the convolutional layers: net.features.parameters()\n",
        "#parameters_to_optimize = net.features.parameters() # In this case we optimize over the convolutional layers parameters of AlexNet\n",
        "#parameters_to_optimize = net.classifier.parameters() # In this case we optimize over the fully connected layers parameters of AlexNet\n",
        "parameters_to_optimize = net.parameters() # In this case we optimize over all the parameters of AlexNet\n",
        "\n",
        "# Define optimizer\n",
        "# An optimizer updates the weights based on loss\n",
        "# We use SGD with momentum\n",
        "optimizer = optim.SGD(parameters_to_optimize, lr=LR, momentum=MOMENTUM, weight_decay=WEIGHT_DECAY)\n",
        "\n",
        "# Define scheduler\n",
        "# A scheduler dynamically changes learning rate\n",
        "# The most common schedule is the step(-down), which multiplies learning rate by gamma every STEP_SIZE epochs\n",
        "scheduler = optim.lr_scheduler.StepLR(optimizer, step_size=STEP_SIZE, gamma=GAMMA)"
      ],
      "execution_count": 0,
      "outputs": []
    },
    {
      "cell_type": "markdown",
      "metadata": {
        "id": "aHQeOxUaGYQV",
        "colab_type": "text"
      },
      "source": [
        "**Define utility function**"
      ]
    },
    {
      "cell_type": "code",
      "metadata": {
        "id": "TY0iULQeGgAa",
        "colab_type": "code",
        "colab": {}
      },
      "source": [
        "def plot_loss_accuracy_trend(loss_values, accuracy_values):\n",
        "    \n",
        "  plt.figure(figsize=(15,5))\n",
        "  \n",
        "  plt.subplot(1, 2, 1)\n",
        "  \n",
        "  epochs = np.arange(1, NUM_EPOCHS+1)\n",
        "\n",
        "  plt.plot(epochs, loss_values[0], label=\"Training\")\n",
        "  plt.plot(epochs, loss_values[1], label=\"Validation\")\n",
        "  plt.xlabel(\"Epochs\")\n",
        "  plt.ylabel(\"Loss\")\n",
        "  plt.title(\"Loss\")\n",
        "  plt.grid(True)\n",
        "  plt.legend()\n",
        "  \n",
        "  plt.subplot(1, 2, 2)\n",
        "\n",
        "  plt.plot(epochs, accuracy_values[0], label=\"Training\")\n",
        "  plt.plot(epochs, accuracy_values[1], label=\"Validation\")\n",
        "  plt.xlabel(\"Epochs\")\n",
        "  plt.ylabel(\"Accuracy\")\n",
        "  plt.title(\"Accuracy\")\n",
        "  plt.grid(True)\n",
        "  plt.legend()\n",
        "\n",
        "  plt.tight_layout()\n",
        "  plt.show()\n",
        "\n",
        "def get_accuracy(model, dataLoader):\n",
        "  net = model.to(DEVICE) # this will bring the network to GPU if DEVICE is cuda\n",
        "  net.train(False) # Set Network to evaluation mode\n",
        "\n",
        "  running_corrects = 0\n",
        "  for images, labels in dataLoader:\n",
        "    images = images.to(DEVICE)\n",
        "    labels = labels.to(DEVICE)\n",
        "\n",
        "    # Forward Pass\n",
        "    outputs = net(images)\n",
        "\n",
        "    # Get predictions\n",
        "    _, preds = torch.max(outputs.data, 1)\n",
        "\n",
        "    # Update Corrects\n",
        "    running_corrects += torch.sum(preds == labels.data).data.item()\n",
        "\n",
        "  # Calculate and return Accuracy\n",
        "  return running_corrects / float(len(test_dataset))"
      ],
      "execution_count": 0,
      "outputs": []
    },
    {
      "cell_type": "markdown",
      "metadata": {
        "id": "AxYUli9d9uYQ",
        "colab_type": "text"
      },
      "source": [
        "**Train**"
      ]
    },
    {
      "cell_type": "code",
      "metadata": {
        "id": "ZcoQ5fD49yT_",
        "colab_type": "code",
        "outputId": "bffa9369-f812-4dc7-b156-a6b3f909b693",
        "colab": {
          "base_uri": "https://localhost:8080/",
          "height": 1000
        }
      },
      "source": [
        "# By default, everything is loaded to cpu\n",
        "net = net.to(DEVICE) # this will bring the network to GPU if DEVICE is cuda\n",
        "\n",
        "cudnn.benchmark # Calling this optimizes runtime\n",
        "\n",
        "best_net = None\n",
        "best_accuracy = 0.0\n",
        "\n",
        "train_acc = []\n",
        "val_acc = []\n",
        "train_loss = []\n",
        "val_loss = []\n",
        "\n",
        "current_step = 0\n",
        "# Start iterating over the epochs\n",
        "for epoch in range(NUM_EPOCHS): \n",
        "  print('Starting epoch {}/{}, LR = {}'.format(epoch+1, NUM_EPOCHS, scheduler.get_lr()))\n",
        "\n",
        "  running_loss = 0.0 \n",
        "  # Iterate over the dataset\n",
        "  for images, labels in train_dataloader:\n",
        "    # Bring data over the device of choice\n",
        "    images = images.to(DEVICE)\n",
        "    labels = labels.to(DEVICE)\n",
        "\n",
        "    net.train() # Sets module in training mode\n",
        "\n",
        "    # PyTorch, by default, accumulates gradients after each backward pass\n",
        "    # We need to manually set the gradients to zero before starting a new iteration\n",
        "    optimizer.zero_grad() # Zero-ing the gradients\n",
        "\n",
        "    # Forward pass to the network\n",
        "    outputs = net(images)\n",
        "\n",
        "    # Compute loss based on output and ground truth\n",
        "    loss = criterion(outputs, labels)\n",
        "    running_loss += loss.item() \n",
        "    \n",
        "    # Log loss\n",
        "    if current_step % LOG_FREQUENCY == 0:\n",
        "      print('Step {}, Loss {}'.format(current_step, loss.item()))\n",
        "\n",
        "    # Compute gradients for each layer and update weights\n",
        "    loss.backward()  # backward pass: computes gradients\n",
        "    optimizer.step() # update weights based on accumulated gradients\n",
        "\n",
        "    current_step += 1\n",
        "  \n",
        "  train_loss.append(running_loss/len(train_dataloader))  # compute average loss\n",
        "  train_acc.append(get_accuracy(net, train_dataloader)) # compute accuracy on train set\n",
        "\n",
        "  # Evaluate the model on the validation set\n",
        "  net = net.to(DEVICE) # this will bring the network to GPU if DEVICE is cuda\n",
        "  net.train(False) # Set Network to evaluation mode\n",
        "  \n",
        "  # Change transforms to apply on validation data\n",
        "  val_dataloader.dataset.dataset.transform = eval_transform\n",
        "  \n",
        "  running_loss = 0.0  \n",
        "  running_corrects = 0\n",
        "  for images, labels in val_dataloader:\n",
        "    images = images.to(DEVICE)\n",
        "    labels = labels.to(DEVICE)\n",
        "\n",
        "    # Forward Pass\n",
        "    outputs = net(images)\n",
        "    \n",
        "    # Compute loss based on output and ground truth\n",
        "    loss = criterion(outputs, labels)\n",
        "    running_loss += loss.item()\n",
        "    \n",
        "    # Get predictions\n",
        "    _, preds = torch.max(outputs.data, 1)\n",
        "\n",
        "    # Update Corrects\n",
        "    running_corrects += torch.sum(preds == labels.data).data.item()\n",
        "\n",
        "  # Calculate Accuracy\n",
        "  accuracy = running_corrects / float(len(val_dataset))\n",
        "\n",
        "  print('Test Accuracy on Validation: {}'.format(accuracy))\n",
        "  \n",
        "  # Update the best model\n",
        "  if accuracy > best_accuracy:\n",
        "    best_accuracy = accuracy\n",
        "    best_net = copy.deepcopy(net)\n",
        "  \n",
        "  val_acc.append(accuracy)\n",
        "  val_loss.append(running_loss/len(val_dataloader))\n",
        "  \n",
        "  # Change transforms to apply on train data\n",
        "  train_dataloader.dataset.dataset.transform = train_transform\n",
        "  # Step the scheduler\n",
        "  scheduler.step() \n",
        "\n",
        "# Plot loss and accuracy trend\n",
        "plot_loss_accuracy_trend([train_loss, val_loss], [train_acc, val_acc])"
      ],
      "execution_count": 11,
      "outputs": [
        {
          "output_type": "stream",
          "text": [
            "Starting epoch 1/30, LR = [0.01]\n",
            "Step 0, Loss 4.877359390258789\n",
            "Step 10, Loss 2.132380485534668\n",
            "Test Accuracy on Validation: 0.6033886583679114\n",
            "Starting epoch 2/30, LR = [0.01]\n",
            "Step 20, Loss 0.7919418215751648\n",
            "Test Accuracy on Validation: 0.7731673582295989\n",
            "Starting epoch 3/30, LR = [0.01]\n",
            "Step 30, Loss 0.4811289608478546\n",
            "Test Accuracy on Validation: 0.8049792531120332\n",
            "Starting epoch 4/30, LR = [0.01]\n",
            "Step 40, Loss 0.1830156147480011\n",
            "Test Accuracy on Validation: 0.8167358229598893\n",
            "Starting epoch 5/30, LR = [0.01]\n",
            "Step 50, Loss 0.136893630027771\n",
            "Test Accuracy on Validation: 0.813969571230982\n",
            "Starting epoch 6/30, LR = [0.01]\n",
            "Step 60, Loss 0.05497375503182411\n",
            "Test Accuracy on Validation: 0.8343706777316736\n",
            "Starting epoch 7/30, LR = [0.01]\n",
            "Step 70, Loss 0.027134735137224197\n",
            "Test Accuracy on Validation: 0.8343706777316736\n",
            "Starting epoch 8/30, LR = [0.01]\n",
            "Step 80, Loss 0.037029657512903214\n",
            "Test Accuracy on Validation: 0.8399031811894883\n",
            "Starting epoch 9/30, LR = [0.01]\n",
            "Step 90, Loss 0.01840323954820633\n",
            "Test Accuracy on Validation: 0.8378284923928078\n",
            "Starting epoch 10/30, LR = [0.01]\n",
            "Step 100, Loss 0.013299230486154556\n",
            "Test Accuracy on Validation: 0.8360995850622407\n",
            "Starting epoch 11/30, LR = [0.001]\n",
            "Step 110, Loss 0.01305367425084114\n",
            "Step 120, Loss 0.0029852427542209625\n",
            "Test Accuracy on Validation: 0.8374827109266944\n",
            "Starting epoch 12/30, LR = [0.001]\n",
            "Step 130, Loss 0.017360996454954147\n",
            "Test Accuracy on Validation: 0.8405947441217151\n",
            "Starting epoch 13/30, LR = [0.001]\n",
            "Step 140, Loss 0.0019511021673679352\n",
            "Test Accuracy on Validation: 0.8423236514522822\n",
            "Starting epoch 14/30, LR = [0.001]\n",
            "Step 150, Loss 0.002912759780883789\n",
            "Test Accuracy on Validation: 0.8416320885200553\n",
            "Starting epoch 15/30, LR = [0.001]\n",
            "Step 160, Loss 0.005426365882158279\n",
            "Test Accuracy on Validation: 0.843015214384509\n",
            "Starting epoch 16/30, LR = [0.001]\n",
            "Step 170, Loss 0.001275390386581421\n",
            "Test Accuracy on Validation: 0.8419778699861687\n",
            "Starting epoch 17/30, LR = [0.001]\n",
            "Step 180, Loss 0.002236057072877884\n",
            "Test Accuracy on Validation: 0.8440525587828492\n",
            "Starting epoch 18/30, LR = [0.001]\n",
            "Step 190, Loss 0.003400031477212906\n",
            "Test Accuracy on Validation: 0.8454356846473029\n",
            "Starting epoch 19/30, LR = [0.001]\n",
            "Step 200, Loss 0.0031182393431663513\n",
            "Test Accuracy on Validation: 0.8450899031811895\n",
            "Starting epoch 20/30, LR = [0.001]\n",
            "Step 210, Loss 0.0022891350090503693\n",
            "Test Accuracy on Validation: 0.8461272475795297\n",
            "Starting epoch 21/30, LR = [0.00010000000000000002]\n",
            "Step 220, Loss 0.003519587218761444\n",
            "Step 230, Loss 0.003064066171646118\n",
            "Test Accuracy on Validation: 0.8461272475795297\n",
            "Starting epoch 22/30, LR = [0.00010000000000000002]\n",
            "Step 240, Loss 0.00791485607624054\n",
            "Test Accuracy on Validation: 0.8461272475795297\n",
            "Starting epoch 23/30, LR = [0.00010000000000000002]\n",
            "Step 250, Loss 0.0017773732542991638\n",
            "Test Accuracy on Validation: 0.8457814661134163\n",
            "Starting epoch 24/30, LR = [0.00010000000000000002]\n",
            "Step 260, Loss 0.0028172098100185394\n",
            "Test Accuracy on Validation: 0.8457814661134163\n",
            "Starting epoch 25/30, LR = [0.00010000000000000002]\n",
            "Step 270, Loss 0.0024747177958488464\n",
            "Test Accuracy on Validation: 0.8454356846473029\n",
            "Starting epoch 26/30, LR = [0.00010000000000000002]\n",
            "Step 280, Loss 0.0018292292952537537\n",
            "Test Accuracy on Validation: 0.8450899031811895\n",
            "Starting epoch 27/30, LR = [0.00010000000000000002]\n",
            "Step 290, Loss 0.00249427929520607\n",
            "Test Accuracy on Validation: 0.8457814661134163\n",
            "Starting epoch 28/30, LR = [0.00010000000000000002]\n",
            "Step 300, Loss 0.0023838914930820465\n",
            "Test Accuracy on Validation: 0.8457814661134163\n",
            "Starting epoch 29/30, LR = [0.00010000000000000002]\n",
            "Step 310, Loss 0.004014473408460617\n",
            "Test Accuracy on Validation: 0.8457814661134163\n",
            "Starting epoch 30/30, LR = [0.00010000000000000002]\n",
            "Step 320, Loss 0.0012366995215415955\n",
            "Test Accuracy on Validation: 0.8457814661134163\n"
          ],
          "name": "stdout"
        },
        {
          "output_type": "display_data",
          "data": {
            "image/png": "[encoded data removed]",
            "text/plain": [
              "<Figure size 1080x360 with 2 Axes>"
            ]
          },
          "metadata": {
            "tags": []
          }
        }
      ]
    },
    {
      "cell_type": "markdown",
      "metadata": {
        "id": "UsHFI-GAJd69",
        "colab_type": "text"
      },
      "source": [
        "**Test**"
      ]
    },
    {
      "cell_type": "code",
      "metadata": {
        "id": "EO3HV5pqJg1o",
        "colab_type": "code",
        "colab": {
          "base_uri": "https://localhost:8080/",
          "height": 68
        },
        "outputId": "79bb8f55-91bf-42a3-9ad7-f6e69a1db59b"
      },
      "source": [
        "best_net = best_net.to(DEVICE) # this will bring the network to GPU if DEVICE is cuda\n",
        "best_net.train(False) # Set Network to evaluation mode\n",
        "\n",
        "running_corrects = 0\n",
        "for images, labels in tqdm(test_dataloader):\n",
        "  images = images.to(DEVICE)\n",
        "  labels = labels.to(DEVICE)\n",
        "\n",
        "  # Forward Pass\n",
        "  outputs = best_net(images)\n",
        "\n",
        "  # Get predictions\n",
        "  _, preds = torch.max(outputs.data, 1)\n",
        "\n",
        "  # Update Corrects\n",
        "  running_corrects += torch.sum(preds == labels.data).data.item()\n",
        "\n",
        "# Calculate Accuracy\n",
        "accuracy = running_corrects / float(len(test_dataset))\n",
        "\n",
        "print('Test Accuracy: {}'.format(accuracy))\n",
        "print('Best Accuracy on Validation: {}'.format(best_accuracy))"
      ],
      "execution_count": 12,
      "outputs": [
        {
          "output_type": "stream",
          "text": [
            "100%|██████████| 12/12 [00:09<00:00,  1.31it/s]"
          ],
          "name": "stderr"
        },
        {
          "output_type": "stream",
          "text": [
            "Test Accuracy: 0.8503283788454891\n",
            "Best Accuracy on Validation: 0.8461272475795297\n"
          ],
          "name": "stdout"
        },
        {
          "output_type": "stream",
          "text": [
            "\n"
          ],
          "name": "stderr"
        }
      ]
    }
  ]
}